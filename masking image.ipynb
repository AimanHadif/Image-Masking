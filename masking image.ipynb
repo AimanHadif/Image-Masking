{
 "cells": [
  {
   "cell_type": "code",
   "execution_count": 1,
   "metadata": {},
   "outputs": [],
   "source": [
    "import cv2\n",
    "import os\n",
    "import numpy as np"
   ]
  },
  {
   "attachments": {},
   "cell_type": "markdown",
   "metadata": {},
   "source": [
    "### Masking multiple image in a folder"
   ]
  },
  {
   "cell_type": "code",
   "execution_count": 7,
   "metadata": {},
   "outputs": [],
   "source": [
    "''' \n",
    "If you use copy paste for the location, use r'' instead \n",
    "'''\n",
    "\n",
    "input_folder = 'location/of/folder'\n",
    "image_files = os.listdir(input_folder)\n",
    "\n",
    "# Extract the last string from the input folder path\n",
    "output_folder_name = os.path.basename(input_folder).split('\\\\')[-1]\n",
    "\n",
    "# Specify the parent directory for the output folder\n",
    "parent_directory = os.path.dirname(input_folder)\n",
    "\n",
    "# Create the output folder path\n",
    "output_folder = os.path.join(parent_directory, \"Masked_\" + output_folder_name)\n",
    "\n",
    "# Create the output folder if it doesn't exist\n",
    "if not os.path.exists(output_folder):\n",
    "    os.makedirs(output_folder)\n",
    "\n",
    "for file_name in image_files:\n",
    "    # Construct the full file path\n",
    "    file_path = os.path.join(input_folder, file_name)\n",
    "\n",
    "    # Load the image\n",
    "    image = cv2.imread(file_path)\n",
    "\n",
    "    # Create a circular mask of the same size as the image\n",
    "    mask = np.zeros(image.shape[:2], dtype=np.uint8)\n",
    "    center = (image.shape[1] // 2, image.shape[0] // 2)\n",
    "    radius = min(center[0], center[1])\n",
    "    cv2.circle(mask, center, radius, (255, 255, 255), -1)\n",
    "\n",
    "    # Apply the mask to the image\n",
    "    masked_image = cv2.bitwise_and(image, image, mask=mask)\n",
    "\n",
    "    # Save the masked image in the output folder\n",
    "    masked_file_path = os.path.join(output_folder, \"masked_\" + file_name)\n",
    "    cv2.imwrite(masked_file_path, masked_image)\n"
   ]
  },
  {
   "attachments": {},
   "cell_type": "markdown",
   "metadata": {},
   "source": [
    "### Masking for 1 Single Image"
   ]
  },
  {
   "cell_type": "code",
   "execution_count": 1,
   "metadata": {},
   "outputs": [],
   "source": [
    "import os\n",
    "import cv2\n",
    "import numpy as np\n",
    "\n",
    "''' \n",
    "If you use copy paste for the location, use r'' instead \n",
    "'''\n",
    "\n",
    "input_file = 'location/of/image.jpg'  # Replace 'image.jpg' with your desired image file\n",
    "\n",
    "# Extract the file name and extension\n",
    "file_name = os.path.basename(input_file)\n",
    "file_name_without_ext = os.path.splitext(file_name)[0]\n",
    "\n",
    "# Specify the parent directory for the output folder\n",
    "parent_directory = os.path.dirname(input_file)\n",
    "\n",
    "# Create the output folder path\n",
    "output_folder = os.path.join(parent_directory, \"Masked_\" + file_name_without_ext)\n",
    "\n",
    "# Create the output folder if it doesn't exist\n",
    "if not os.path.exists(output_folder):\n",
    "    os.makedirs(output_folder)\n",
    "\n",
    "# Load the image\n",
    "image = cv2.imread(input_file)\n",
    "\n",
    "# Create a circular mask of the same size as the image\n",
    "mask = np.zeros(image.shape[:2], dtype=np.uint8)\n",
    "center = (image.shape[1] // 2, image.shape[0] // 2)\n",
    "radius = min(center[0], center[1])\n",
    "cv2.circle(mask, center, radius, (255, 255, 255), -1)\n",
    "\n",
    "# Apply the mask to the image\n",
    "masked_image = cv2.bitwise_and(image, image, mask=mask)\n",
    "\n",
    "# Save the masked image in the output folder\n",
    "masked_file_path = os.path.join(output_folder, \"masked_\" + file_name)\n",
    "cv2.imwrite(masked_file_path, masked_image)\n",
    "\n",
    "# Display the original and masked images\n",
    "cv2.imshow(\"Original Image\", image)\n",
    "cv2.imshow(\"Masked Image\", masked_image)\n",
    "cv2.waitKey(0)\n",
    "cv2.destroyAllWindows()"
   ]
  }
 ],
 "metadata": {
  "kernelspec": {
   "display_name": "base",
   "language": "python",
   "name": "python3"
  },
  "language_info": {
   "codemirror_mode": {
    "name": "ipython",
    "version": 3
   },
   "file_extension": ".py",
   "mimetype": "text/x-python",
   "name": "python",
   "nbconvert_exporter": "python",
   "pygments_lexer": "ipython3",
   "version": "3.9.13"
  },
  "orig_nbformat": 4
 },
 "nbformat": 4,
 "nbformat_minor": 2
}
